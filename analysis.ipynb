{
 "cells": [],
 "metadata": {
  "interpreter": {
   "hash": "e07fda8fe562dbc743bc6b3a5bab4a108c4d1b45428599142af69ccf91580f29"
  },
  "kernelspec": {
   "display_name": "Python 3.8.2 ('air_qua')",
   "language": "python",
   "name": "python3"
  },
  "language_info": {
   "name": "python",
   "version": "3.9.6"
  },
  "orig_nbformat": 4
 },
 "nbformat": 4,
 "nbformat_minor": 2
}
